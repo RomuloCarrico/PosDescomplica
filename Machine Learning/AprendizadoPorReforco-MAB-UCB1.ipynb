{
 "cells": [
  {
   "cell_type": "markdown",
   "id": "ff65b034",
   "metadata": {},
   "source": [
    "### Fazendo uma implementação do MAB-UCB1 conforme o projeto do Alison Carrera(https://github.com/alison-carrera/mabalgs), que tem sido amplamente utilizado para a implementação de MAB's."
   ]
  },
  {
   "cell_type": "code",
   "execution_count": 4,
   "id": "6f89c5b7",
   "metadata": {},
   "outputs": [
    {
     "name": "stdout",
     "output_type": "stream",
     "text": [
      "Collecting mabalgs\n",
      "  Downloading mabalgs-0.6.8.tar.gz (12 kB)\n",
      "  Preparing metadata (setup.py): started\n",
      "  Preparing metadata (setup.py): finished with status 'done'\n",
      "Requirement already satisfied: numpy in c:\\users\\romul\\anaconda3\\lib\\site-packages (from mabalgs) (1.23.5)\n",
      "Building wheels for collected packages: mabalgs\n",
      "  Building wheel for mabalgs (setup.py): started\n",
      "  Building wheel for mabalgs (setup.py): finished with status 'done'\n",
      "  Created wheel for mabalgs: filename=mabalgs-0.6.8-py3-none-any.whl size=9736 sha256=ef9bedc72013beaf00034ae977588b65e0ea997db0673aae0f7e3bcf8003e84c\n",
      "  Stored in directory: c:\\users\\romul\\appdata\\local\\pip\\cache\\wheels\\cb\\a9\\d9\\5c2d637d4530cee743251eae27a07f3c97e0351399a3ae4b87\n",
      "Successfully built mabalgs\n",
      "Installing collected packages: mabalgs\n",
      "Successfully installed mabalgs-0.6.8\n",
      "Note: you may need to restart the kernel to use updated packages.\n"
     ]
    },
    {
     "name": "stderr",
     "output_type": "stream",
     "text": [
      "Error processing line 3 of C:\\Users\\romul\\anaconda3\\lib\\site-packages\\googleapis_common_protos-1.57.1-py3.9-nspkg.pth:\n",
      "\n",
      "  Traceback (most recent call last):\n",
      "    File \"C:\\Users\\romul\\anaconda3\\lib\\site.py\", line 169, in addpackage\n",
      "      exec(line)\n",
      "    File \"<string>\", line 1, in <module>\n",
      "    File \"<frozen importlib._bootstrap>\", line 562, in module_from_spec\n",
      "  AttributeError: 'NoneType' object has no attribute 'loader'\n",
      "\n",
      "Remainder of file ignored\n"
     ]
    }
   ],
   "source": [
    "# Instalando o pacote necessário\n",
    "\n",
    "pip install mabalgs"
   ]
  },
  {
   "cell_type": "code",
   "execution_count": 5,
   "id": "8e106b68",
   "metadata": {},
   "outputs": [],
   "source": [
    "# Importando o MAB-UCB1\n",
    "\n",
    "from mab.algs import UCB1"
   ]
  },
  {
   "cell_type": "code",
   "execution_count": 6,
   "id": "330af6fb",
   "metadata": {},
   "outputs": [],
   "source": [
    "# Criando um MAB-UCB1 com 3 arms\n",
    "\n",
    "ucb_3_arms = UCB1(3)"
   ]
  },
  {
   "cell_type": "code",
   "execution_count": 7,
   "id": "6a9e4353",
   "metadata": {},
   "outputs": [
    {
     "data": {
      "text/plain": [
       "(0, [0, 1, 2])"
      ]
     },
     "execution_count": 7,
     "metadata": {},
     "output_type": "execute_result"
    }
   ],
   "source": [
    "# Agora, toda vez que quisermos selecionar um MAB, usamos o select\n",
    "\n",
    "ucb_3_arms.select()"
   ]
  },
  {
   "cell_type": "code",
   "execution_count": 8,
   "id": "35bdd873",
   "metadata": {},
   "outputs": [
    {
     "data": {
      "text/plain": [
       "(1, array([1, 0, 2]))"
      ]
     },
     "execution_count": 8,
     "metadata": {},
     "output_type": "execute_result"
    }
   ],
   "source": [
    "ucb_3_arms.select()"
   ]
  },
  {
   "cell_type": "code",
   "execution_count": 9,
   "id": "71abf5f5",
   "metadata": {},
   "outputs": [
    {
     "data": {
      "text/plain": [
       "(2, array([2, 0, 1]))"
      ]
     },
     "execution_count": 9,
     "metadata": {},
     "output_type": "execute_result"
    }
   ],
   "source": [
    "ucb_3_arms.select()"
   ]
  },
  {
   "cell_type": "markdown",
   "id": "d1ef563f",
   "metadata": {},
   "source": [
    "Toda vez que o metodo select for executado, ele irá calcular os upper bounds confidences e irá o retornar o MAB com maior UCB"
   ]
  },
  {
   "cell_type": "code",
   "execution_count": 11,
   "id": "706a4e76",
   "metadata": {},
   "outputs": [
    {
     "data": {
      "text/plain": [
       "2"
      ]
     },
     "execution_count": 11,
     "metadata": {},
     "output_type": "execute_result"
    }
   ],
   "source": [
    "# Recompensando o arm se ele gerar um retorno postivo\n",
    "\n",
    "my_arm = ucb_3_arms.select()[0]\n",
    "my_arm"
   ]
  },
  {
   "cell_type": "code",
   "execution_count": 12,
   "id": "4e6106a5",
   "metadata": {},
   "outputs": [],
   "source": [
    "ucb_3_arms.reward(my_arm)"
   ]
  },
  {
   "cell_type": "markdown",
   "id": "8a4623ea",
   "metadata": {},
   "source": [
    "A ideia é gerar um sistema de recompensas com retorno positivo para cada vez que houver uma interação com o arm.\n",
    "\n",
    "É possível avaliar o número de impressões de cada arm, assim como o número de recompensas recebidas"
   ]
  },
  {
   "cell_type": "code",
   "execution_count": 13,
   "id": "70618a9b",
   "metadata": {},
   "outputs": [
    {
     "data": {
      "text/plain": [
       "array([1., 1., 2.])"
      ]
     },
     "execution_count": 13,
     "metadata": {},
     "output_type": "execute_result"
    }
   ],
   "source": [
    "ucb_3_arms.n_impressions"
   ]
  },
  {
   "cell_type": "code",
   "execution_count": 15,
   "id": "dec58789",
   "metadata": {},
   "outputs": [
    {
     "data": {
      "text/plain": [
       "array([0., 0., 1.])"
      ]
     },
     "execution_count": 15,
     "metadata": {},
     "output_type": "execute_result"
    }
   ],
   "source": [
    "ucb_3_arms.n_rewards"
   ]
  }
 ],
 "metadata": {
  "kernelspec": {
   "display_name": "Python 3 (ipykernel)",
   "language": "python",
   "name": "python3"
  },
  "language_info": {
   "codemirror_mode": {
    "name": "ipython",
    "version": 3
   },
   "file_extension": ".py",
   "mimetype": "text/x-python",
   "name": "python",
   "nbconvert_exporter": "python",
   "pygments_lexer": "ipython3",
   "version": "3.9.16"
  }
 },
 "nbformat": 4,
 "nbformat_minor": 5
}
