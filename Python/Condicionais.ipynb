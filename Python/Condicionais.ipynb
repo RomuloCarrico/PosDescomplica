{
 "cells": [
  {
   "cell_type": "code",
   "execution_count": 4,
   "id": "2eb0d9a9",
   "metadata": {},
   "outputs": [
    {
     "name": "stdout",
     "output_type": "stream",
     "text": [
      "É muito doido\n"
     ]
    }
   ],
   "source": [
    "idade = 13\n",
    "if idade >= 18:\n",
    "    print (\"É maior de idade\")\n",
    "else:\n",
    "    print ('É muito doido')"
   ]
  },
  {
   "cell_type": "code",
   "execution_count": 5,
   "id": "d474e3a0",
   "metadata": {},
   "outputs": [
    {
     "name": "stdout",
     "output_type": "stream",
     "text": [
      "3.9.16\n"
     ]
    }
   ],
   "source": [
    "from platform import python_version\n",
    "print(python_version())"
   ]
  },
  {
   "cell_type": "code",
   "execution_count": 8,
   "id": "1f42a584",
   "metadata": {},
   "outputs": [
    {
     "name": "stdout",
     "output_type": "stream",
     "text": [
      "Qual o ano do seu nascimento? 2008\n",
      "Digite o CPF do seu Responsável: 12312\n"
     ]
    }
   ],
   "source": [
    "ano = int (input(\"Qual o ano do seu nascimento? \"))\n",
    "\n",
    "idade = 2023 - ano\n",
    "\n",
    "if idade >= 18:\n",
    "    documento = input(\"Digite seu título de eleitor: \")\n",
    "else:\n",
    "    docResp = input(\"Digite o CPF do seu Responsável: \")\n",
    "             "
   ]
  },
  {
   "cell_type": "code",
   "execution_count": null,
   "id": "60b62742",
   "metadata": {},
   "outputs": [],
   "source": []
  }
 ],
 "metadata": {
  "kernelspec": {
   "display_name": "Python 3 (ipykernel)",
   "language": "python",
   "name": "python3"
  },
  "language_info": {
   "codemirror_mode": {
    "name": "ipython",
    "version": 3
   },
   "file_extension": ".py",
   "mimetype": "text/x-python",
   "name": "python",
   "nbconvert_exporter": "python",
   "pygments_lexer": "ipython3",
   "version": "3.9.16"
  }
 },
 "nbformat": 4,
 "nbformat_minor": 5
}
