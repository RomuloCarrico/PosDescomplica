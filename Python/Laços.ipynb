{
 "cells": [
  {
   "cell_type": "code",
   "execution_count": 2,
   "id": "d502dd42",
   "metadata": {},
   "outputs": [],
   "source": [
    "a = ['Marcio', 'Bruna']"
   ]
  },
  {
   "cell_type": "code",
   "execution_count": 3,
   "id": "37aab5b5",
   "metadata": {},
   "outputs": [
    {
     "data": {
      "text/plain": [
       "'Marcio'"
      ]
     },
     "execution_count": 3,
     "metadata": {},
     "output_type": "execute_result"
    }
   ],
   "source": [
    "a[0]"
   ]
  },
  {
   "cell_type": "code",
   "execution_count": 5,
   "id": "c85a9033",
   "metadata": {},
   "outputs": [],
   "source": [
    "a.append(\"Marcos\")"
   ]
  },
  {
   "cell_type": "code",
   "execution_count": 6,
   "id": "528a879d",
   "metadata": {},
   "outputs": [
    {
     "data": {
      "text/plain": [
       "['Marcio', 'Bruna', 'Marcos']"
      ]
     },
     "execution_count": 6,
     "metadata": {},
     "output_type": "execute_result"
    }
   ],
   "source": [
    "a"
   ]
  },
  {
   "cell_type": "code",
   "execution_count": 7,
   "id": "8e3f0d7a",
   "metadata": {},
   "outputs": [],
   "source": [
    "a.insert(1,\"Hellen\")"
   ]
  },
  {
   "cell_type": "code",
   "execution_count": 8,
   "id": "121cd784",
   "metadata": {},
   "outputs": [
    {
     "data": {
      "text/plain": [
       "['Marcio', 'Hellen', 'Bruna', 'Marcos']"
      ]
     },
     "execution_count": 8,
     "metadata": {},
     "output_type": "execute_result"
    }
   ],
   "source": [
    "a"
   ]
  },
  {
   "cell_type": "code",
   "execution_count": 10,
   "id": "d96f77ce",
   "metadata": {},
   "outputs": [],
   "source": [
    "a.remove(\"Marcio\")"
   ]
  },
  {
   "cell_type": "code",
   "execution_count": 12,
   "id": "6df95a9d",
   "metadata": {},
   "outputs": [
    {
     "data": {
      "text/plain": [
       "['Hellen', 'Bruna', 'Marcos']"
      ]
     },
     "execution_count": 12,
     "metadata": {},
     "output_type": "execute_result"
    }
   ],
   "source": [
    "a"
   ]
  },
  {
   "cell_type": "code",
   "execution_count": null,
   "id": "31dc12c3",
   "metadata": {},
   "outputs": [],
   "source": []
  },
  {
   "cell_type": "code",
   "execution_count": null,
   "id": "40100a54",
   "metadata": {},
   "outputs": [],
   "source": []
  },
  {
   "cell_type": "code",
   "execution_count": null,
   "id": "5d8e4a97",
   "metadata": {},
   "outputs": [],
   "source": []
  },
  {
   "cell_type": "code",
   "execution_count": null,
   "id": "85eefe46",
   "metadata": {},
   "outputs": [],
   "source": []
  },
  {
   "cell_type": "code",
   "execution_count": null,
   "id": "bb41a87c",
   "metadata": {},
   "outputs": [],
   "source": []
  },
  {
   "cell_type": "code",
   "execution_count": null,
   "id": "705cf84a",
   "metadata": {},
   "outputs": [],
   "source": []
  }
 ],
 "metadata": {
  "kernelspec": {
   "display_name": "Python 3 (ipykernel)",
   "language": "python",
   "name": "python3"
  },
  "language_info": {
   "codemirror_mode": {
    "name": "ipython",
    "version": 3
   },
   "file_extension": ".py",
   "mimetype": "text/x-python",
   "name": "python",
   "nbconvert_exporter": "python",
   "pygments_lexer": "ipython3",
   "version": "3.9.16"
  }
 },
 "nbformat": 4,
 "nbformat_minor": 5
}
