{
 "cells": [
  {
   "cell_type": "code",
   "execution_count": 5,
   "id": "6df5843e",
   "metadata": {},
   "outputs": [
    {
     "name": "stdout",
     "output_type": "stream",
     "text": [
      "Digite seu nome: Romulo\n",
      "Qual o seu nome de nascimento? 1993\n"
     ]
    }
   ],
   "source": [
    "nome = input(\"Digite seu nome: \")\n",
    "nascimento = input(\"Qual o seu ano de nascimento? \")"
   ]
  },
  {
   "cell_type": "code",
   "execution_count": 3,
   "id": "dcd63b2a",
   "metadata": {},
   "outputs": [
    {
     "data": {
      "text/plain": [
       "'Romulo'"
      ]
     },
     "execution_count": 3,
     "metadata": {},
     "output_type": "execute_result"
    }
   ],
   "source": [
    "nome"
   ]
  },
  {
   "cell_type": "code",
   "execution_count": 4,
   "id": "b2b9b8da",
   "metadata": {},
   "outputs": [
    {
     "name": "stdout",
     "output_type": "stream",
     "text": [
      "Qual o seu nome de nascimento? 1993\n"
     ]
    }
   ],
   "source": [
    "nascimento = input(\"Qual o seu nome de nascimento? \")"
   ]
  },
  {
   "cell_type": "code",
   "execution_count": 6,
   "id": "0ca967d5",
   "metadata": {},
   "outputs": [
    {
     "data": {
      "text/plain": [
       "str"
      ]
     },
     "execution_count": 6,
     "metadata": {},
     "output_type": "execute_result"
    }
   ],
   "source": [
    "type(nome)"
   ]
  },
  {
   "cell_type": "code",
   "execution_count": 7,
   "id": "832b2bb1",
   "metadata": {},
   "outputs": [
    {
     "data": {
      "text/plain": [
       "str"
      ]
     },
     "execution_count": 7,
     "metadata": {},
     "output_type": "execute_result"
    }
   ],
   "source": [
    "type(nascimento)"
   ]
  },
  {
   "cell_type": "code",
   "execution_count": null,
   "id": "204d2f9f",
   "metadata": {},
   "outputs": [],
   "source": []
  }
 ],
 "metadata": {
  "kernelspec": {
   "display_name": "Python 3 (ipykernel)",
   "language": "python",
   "name": "python3"
  },
  "language_info": {
   "codemirror_mode": {
    "name": "ipython",
    "version": 3
   },
   "file_extension": ".py",
   "mimetype": "text/x-python",
   "name": "python",
   "nbconvert_exporter": "python",
   "pygments_lexer": "ipython3",
   "version": "3.9.16"
  }
 },
 "nbformat": 4,
 "nbformat_minor": 5
}
