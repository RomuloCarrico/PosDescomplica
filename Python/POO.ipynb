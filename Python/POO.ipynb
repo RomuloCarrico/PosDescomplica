{
 "cells": [
  {
   "cell_type": "code",
   "execution_count": 5,
   "id": "d837089c",
   "metadata": {},
   "outputs": [],
   "source": [
    "class Pessoa:\n",
    "    nome = \"teste\"\n",
    "    idade = 0\n",
    "    \n",
    "    \n",
    "    def exibir(self):\n",
    "        print(self.nome)"
   ]
  },
  {
   "cell_type": "code",
   "execution_count": 6,
   "id": "a0e704b1",
   "metadata": {},
   "outputs": [
    {
     "data": {
      "text/plain": [
       "'teste'"
      ]
     },
     "execution_count": 6,
     "metadata": {},
     "output_type": "execute_result"
    }
   ],
   "source": [
    "Pessoa.nome"
   ]
  },
  {
   "cell_type": "code",
   "execution_count": 8,
   "id": "df99abff",
   "metadata": {},
   "outputs": [],
   "source": [
    "a = Pessoa()"
   ]
  },
  {
   "cell_type": "code",
   "execution_count": 11,
   "id": "f11facc6",
   "metadata": {},
   "outputs": [
    {
     "name": "stdout",
     "output_type": "stream",
     "text": [
      "teste\n"
     ]
    }
   ],
   "source": [
    "a.exibir()"
   ]
  },
  {
   "cell_type": "code",
   "execution_count": null,
   "id": "fe2380c1",
   "metadata": {},
   "outputs": [],
   "source": []
  },
  {
   "cell_type": "code",
   "execution_count": 10,
   "id": "9a1699ac",
   "metadata": {},
   "outputs": [
    {
     "data": {
      "text/plain": [
       "0"
      ]
     },
     "execution_count": 10,
     "metadata": {},
     "output_type": "execute_result"
    }
   ],
   "source": [
    "a.idade"
   ]
  },
  {
   "cell_type": "code",
   "execution_count": null,
   "id": "58861e31",
   "metadata": {},
   "outputs": [],
   "source": []
  },
  {
   "cell_type": "code",
   "execution_count": null,
   "id": "e1b8c392",
   "metadata": {},
   "outputs": [],
   "source": []
  },
  {
   "cell_type": "code",
   "execution_count": null,
   "id": "4f88298d",
   "metadata": {},
   "outputs": [],
   "source": []
  }
 ],
 "metadata": {
  "kernelspec": {
   "display_name": "Python 3 (ipykernel)",
   "language": "python",
   "name": "python3"
  },
  "language_info": {
   "codemirror_mode": {
    "name": "ipython",
    "version": 3
   },
   "file_extension": ".py",
   "mimetype": "text/x-python",
   "name": "python",
   "nbconvert_exporter": "python",
   "pygments_lexer": "ipython3",
   "version": "3.9.16"
  }
 },
 "nbformat": 4,
 "nbformat_minor": 5
}
