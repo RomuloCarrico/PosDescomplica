{
 "cells": [
  {
   "cell_type": "code",
   "execution_count": 1,
   "id": "04a8bbf2",
   "metadata": {},
   "outputs": [
    {
     "data": {
      "text/plain": [
       "<_io.TextIOWrapper name='teste.txt' mode='x' encoding='cp1252'>"
      ]
     },
     "execution_count": 1,
     "metadata": {},
     "output_type": "execute_result"
    }
   ],
   "source": [
    "open (\"teste.txt\",\"x\")"
   ]
  },
  {
   "cell_type": "code",
   "execution_count": 3,
   "id": "ef111327",
   "metadata": {},
   "outputs": [
    {
     "data": {
      "text/plain": [
       "18"
      ]
     },
     "execution_count": 3,
     "metadata": {},
     "output_type": "execute_result"
    }
   ],
   "source": [
    "conteudo = open(\"teste.txt\",\"a\")\n",
    "conteudo.write(\"Uma linha qualquer\")"
   ]
  },
  {
   "cell_type": "code",
   "execution_count": null,
   "id": "61c7157c",
   "metadata": {},
   "outputs": [],
   "source": []
  }
 ],
 "metadata": {
  "kernelspec": {
   "display_name": "Python 3 (ipykernel)",
   "language": "python",
   "name": "python3"
  },
  "language_info": {
   "codemirror_mode": {
    "name": "ipython",
    "version": 3
   },
   "file_extension": ".py",
   "mimetype": "text/x-python",
   "name": "python",
   "nbconvert_exporter": "python",
   "pygments_lexer": "ipython3",
   "version": "3.9.16"
  }
 },
 "nbformat": 4,
 "nbformat_minor": 5
}
