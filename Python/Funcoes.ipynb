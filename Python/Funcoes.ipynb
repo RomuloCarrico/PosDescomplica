{
 "cells": [
  {
   "cell_type": "code",
   "execution_count": 12,
   "id": "f2a9d32d",
   "metadata": {},
   "outputs": [],
   "source": [
    "def soma(a, b, d):\n",
    "    c = a + b + d\n",
    "    if c % 2 == 0:\n",
    "        return \"Par\"\n",
    "    else:\n",
    "        return \"Impar\""
   ]
  },
  {
   "cell_type": "code",
   "execution_count": 14,
   "id": "e10691f1",
   "metadata": {},
   "outputs": [
    {
     "data": {
      "text/plain": [
       "'Par'"
      ]
     },
     "execution_count": 14,
     "metadata": {},
     "output_type": "execute_result"
    }
   ],
   "source": [
    "soma(1,3,52)"
   ]
  },
  {
   "cell_type": "code",
   "execution_count": 9,
   "id": "f4440fd8",
   "metadata": {},
   "outputs": [
    {
     "name": "stdout",
     "output_type": "stream",
     "text": [
      "imprimindo resultado com variável\n"
     ]
    }
   ],
   "source": [
    "print(soma())"
   ]
  },
  {
   "cell_type": "code",
   "execution_count": 15,
   "id": "aa10cd83",
   "metadata": {},
   "outputs": [],
   "source": [
    "def fatorial(n):\n",
    "    if n == 1:\n",
    "        return 1\n",
    "    return n * fatorial(n-1)"
   ]
  },
  {
   "cell_type": "code",
   "execution_count": 17,
   "id": "3a882412",
   "metadata": {},
   "outputs": [
    {
     "data": {
      "text/plain": [
       "40320"
      ]
     },
     "execution_count": 17,
     "metadata": {},
     "output_type": "execute_result"
    }
   ],
   "source": [
    "fatorial(8)"
   ]
  },
  {
   "cell_type": "code",
   "execution_count": null,
   "id": "aabdfb7b",
   "metadata": {},
   "outputs": [],
   "source": []
  },
  {
   "cell_type": "code",
   "execution_count": null,
   "id": "4fbed646",
   "metadata": {},
   "outputs": [],
   "source": []
  },
  {
   "cell_type": "code",
   "execution_count": null,
   "id": "b5b35212",
   "metadata": {},
   "outputs": [],
   "source": []
  },
  {
   "cell_type": "code",
   "execution_count": null,
   "id": "f8038cbb",
   "metadata": {},
   "outputs": [],
   "source": []
  },
  {
   "cell_type": "code",
   "execution_count": null,
   "id": "900503b5",
   "metadata": {},
   "outputs": [],
   "source": []
  },
  {
   "cell_type": "code",
   "execution_count": null,
   "id": "46bcbf36",
   "metadata": {},
   "outputs": [],
   "source": []
  }
 ],
 "metadata": {
  "kernelspec": {
   "display_name": "Python 3 (ipykernel)",
   "language": "python",
   "name": "python3"
  },
  "language_info": {
   "codemirror_mode": {
    "name": "ipython",
    "version": 3
   },
   "file_extension": ".py",
   "mimetype": "text/x-python",
   "name": "python",
   "nbconvert_exporter": "python",
   "pygments_lexer": "ipython3",
   "version": "3.9.16"
  }
 },
 "nbformat": 4,
 "nbformat_minor": 5
}
